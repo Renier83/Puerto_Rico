{
 "cells": [
  {
   "cell_type": "code",
   "execution_count": 70,
   "metadata": {},
   "outputs": [],
   "source": [
    "import pandas as pd\n",
    "import matplotlib.pyplot as plt\n",
    "import numpy as np\n",
    "import requests\n",
    "import pymongo\n",
    "import re\n",
    "import pymysql\n",
    "from sqlalchemy import create_engine\n",
    "from config import gkey\n",
    "pymysql.install_as_MySQLdb()\n",
    "import time"
   ]
  },
  {
   "cell_type": "code",
   "execution_count": 71,
   "metadata": {},
   "outputs": [],
   "source": [
    "# getting the info for sql bench\n",
    "from config import remote_db_endpoint, remote_db_port\n",
    "from config import remote_db_name, remote_db_user, remote_db_pwd"
   ]
  },
  {
   "cell_type": "code",
   "execution_count": 79,
   "metadata": {},
   "outputs": [],
   "source": [
    "# Creating engine to mysql\n",
    "engine = create_engine(f\"mysql://{remote_db_user}:{remote_db_pwd}@{remote_db_endpoint}:{remote_db_port}/{remote_db_name}\")\n",
    "conn = engine.connect()"
   ]
  },
  {
   "cell_type": "code",
   "execution_count": 80,
   "metadata": {},
   "outputs": [],
   "source": [
    "base_url = \"https://maps.googleapis.com/maps/api/place/nearbysearch/json\"\n",
    "\n",
    "# San Juan 18.466333,-66.105721\n",
    "# Ponce 18.01108, -66.61406\n",
    "# Rincon 18.340216, -67.250015\n",
    "# Fajardo 18.325787, -65.652382\n",
    "# Arecibo 18.47245, -66.71573\n",
    "\n",
    "# spanish, puertorican, middle eastern, chinese, fast food, bar restaurant\n",
    "params = {\n",
    "    \"location\": \"18.01108, -66.61406\",  # San Juan coords\n",
    "    \"radius\": 32000,\n",
    "    \"types\": \"restaurant\",\n",
    "    \"key\": gkey,\n",
    "    \"keyword\": \"\"\n",
    "}\n",
    "\n",
    "response = requests.get(base_url, params=params).json()\n",
    "#response"
   ]
  },
  {
   "cell_type": "code",
   "execution_count": 81,
   "metadata": {},
   "outputs": [],
   "source": [
    "#results[8]['photos'][0]['photo_reference']"
   ]
  },
  {
   "cell_type": "code",
   "execution_count": 82,
   "metadata": {},
   "outputs": [],
   "source": [
    "def generate_results_dataframe(results):\n",
    "    results_list = []\n",
    "\n",
    "    for r in results:\n",
    "        test = True\n",
    "\n",
    "        # Initialize variables\n",
    "        business_status = None\n",
    "        lat = None\n",
    "        lng = None\n",
    "        icon = None,\n",
    "        name = None\n",
    "        place_id = None\n",
    "        price_level = None\n",
    "        photo_reference = None\n",
    "        rating = None\n",
    "        place_types = None\n",
    "        user_ratings_total = None\n",
    "        address = None\n",
    "\n",
    "        try:\n",
    "            if 'business_status' in r.keys(): business_status = r['business_status']\n",
    "        except: pass\n",
    "\n",
    "        try:\n",
    "            if 'lat' in r['geometry']['location'].keys(): lat = r['geometry']['location']['lat']\n",
    "        except: pass\n",
    "        try:\n",
    "            if 'lng' in r['geometry']['location'].keys(): lng = r['geometry']['location']['lng']\n",
    "        except: pass\n",
    "\n",
    "        try:\n",
    "            if 'icon' in r.keys(): icon = r['icon']\n",
    "        except: pass\n",
    "\n",
    "        try:\n",
    "            if 'name' in r.keys(): name = r['name']\n",
    "        except: pass\n",
    "\n",
    "        try:\n",
    "            if 'place_id' in r.keys(): place_id = r['place_id']\n",
    "        except: pass\n",
    "\n",
    "        try:\n",
    "            if 'price_level' in r.keys(): price_level = r['price_level']\n",
    "        except: pass\n",
    "\n",
    "        try:\n",
    "            if 'photos' in r.keys(): photo_reference = r['photos'][0]['photo_reference']\n",
    "        except: pass\n",
    "\n",
    "        try:\n",
    "            if 'rating' in r.keys(): rating = r['rating']\n",
    "        except: pass\n",
    "\n",
    "        try:\n",
    "            if 'types' in r.keys(): place_types = r['types']\n",
    "        except: pass\n",
    "\n",
    "        try:\n",
    "            if 'user_ratings_total' in r.keys(): user_ratings_total = r['user_ratings_total']\n",
    "        except: pass\n",
    "\n",
    "        try:\n",
    "            if 'vicinity' in r.keys(): address = r['vicinity']\n",
    "        except: pass\n",
    "\n",
    "        result_dict = {\n",
    "            'business_status': business_status,\n",
    "            'lat': lat,\n",
    "            'lng': lng,\n",
    "            'icon': icon,\n",
    "            'name': name,\n",
    "            'place_id': place_id,\n",
    "            'price_level': price_level,\n",
    "            'photo_reference': photo_reference,\n",
    "            'rating': rating,\n",
    "            'place_types': place_types,\n",
    "            'user_ratings_total': user_ratings_total,\n",
    "            'address': address\n",
    "        }\n",
    "\n",
    "        results_list.append(result_dict)\n",
    "\n",
    "    results_df = pd.DataFrame(results_list)\n",
    "    results_df['place_types'] = results_df['place_types'].astype(str)\n",
    "    \n",
    "    return results_df"
   ]
  },
  {
   "cell_type": "code",
   "execution_count": 83,
   "metadata": {},
   "outputs": [
    {
     "name": "stdout",
     "output_type": "stream",
     "text": [
      "--- 20(s) loaded to the database --- \n",
      "ATtYBwKPW-IvPDlgc1paIOH1PsmAGDu-6h9LnVo9J0AOHzq0J9UUGVcqRJjzHFSZdDOM5gon6t2LrQp6VcJ5utK6bIbYWI0-WdUbwTGxvUZYxW7ZwY_cy_V8BQ-_QncZXU2SiDEhqYSWhAywxiPtR9wgBv2JIoaJp03IRaSsMYyCDDn-l6sgHLQOSsqta1S2TjXqQwymE-DpCdDDG-Q2c6yV9z7W90Ku2gOzGjOqZ8xuZAoGEunnCp-Wyp2g0wVaDwYFUMsAVkFASFR6kjONEGfvxnEB6q9c87zqDad6I_EsQYbHKvlHaKBVS_Ok2coxHZa7Ld6dR6YT2PoY8IHmpd53m82OJiXWbs3bO7vG70G8ILrbxeWf5cCGmR_Opcds7c3J_sxnPsMHCb0_1feWkXDAHAcRIqeomlV3Ugw-Erf6yQUpjvRJfyb696z_jKRJ\n",
      "--- 20(s) loaded to the database --- \n",
      "ATtYBwK3_iO7awsSi5phigxgfsyC_mzV9myBsx7faGV3nUHrZn7SG3Mrc2Sk3lEfeTxHQin6xk6uUxJyLZRPeLBp0hTcln0-m-hkuU11rqWxyzfQe5md8l5TkSS-Mq9UwS-tg1B28zBkdpNPWcMYXU-wrhklTyi5eUt8pYYkL5ThSj2L413SpKNTDyH8Z_xRvKsUtW0-MN0in1PvDYf0hyQ7SFBaqQizy3hYDjAu7u1VAxyxkDY2BaHtMiRPDXTCUH7a-3Mbc2FkfN2DA1jpDSTfgCM8s9-G-7f7e7-Mdq8WPC4Ke7luiKcaAYJAGkUDsc3E1PDt5iR_EjWHRH9efUUznghXLOkoM8RVH5rvfdDcbo-g7SBM5Lno4h06tNObl9Hqi_lDdAiTymmDPco-knuvnrXP5Xs821bwRskr2rzvAwqvCQRZJpmAWgyt_smP7NyHW5bB3XXPm78D5olYP791EC1F3qfx5whj3ZXDQYiCXm2RQ9wC0aCmtD7zgZdb3q2R6RoglIOxhWOMLdpqj3NWNP0lJ85VdoNOEm9ZRlIOhKKoZEm86OiZidCbmZAFUp9VeBj4I65VhGXh2Wnyhw1g5yruS54mEK2yiNBzXnf3KHxGRQNCF5hEwsfhRKX7JbccB9VIzjJt85Fak2wtag\n",
      "--- 20(s) loaded to the database --- \n"
     ]
    }
   ],
   "source": [
    "while('results' in response.keys() and len(response['results']) > 0):   \n",
    "        \n",
    "    results = response['results']\n",
    "    results_df = generate_results_dataframe(results)\n",
    "    results_df.to_sql('restaurants', con=conn, if_exists='append', index=False)\n",
    "    print(f'--- {len(results_df)} record(s) loaded to the database --- ')\n",
    "    \n",
    "    if 'next_page_token' in response:      \n",
    "        pagetoken = response['next_page_token']\n",
    "    \n",
    "        # sleeping for the \"short delay\" \n",
    "        time.sleep(10)\n",
    "    \n",
    "        base_url = \"https://maps.googleapis.com/maps/api/place/nearbysearch/json\"\n",
    "        params = {\n",
    "            \"pagetoken\": pagetoken,\n",
    "            \"key\": gkey,\n",
    "        }\n",
    "    \n",
    "        response = requests.get(base_url, params=params).json()\n",
    "        \n",
    "    else:\n",
    "        break"
   ]
  },
  {
   "cell_type": "code",
   "execution_count": 10,
   "metadata": {},
   "outputs": [
    {
     "data": {
      "text/plain": [
       "{'html_attributions': [], 'results': [], 'status': 'INVALID_REQUEST'}"
      ]
     },
     "execution_count": 10,
     "metadata": {},
     "output_type": "execute_result"
    }
   ],
   "source": [
    "response"
   ]
  },
  {
   "cell_type": "code",
   "execution_count": null,
   "metadata": {},
   "outputs": [],
   "source": []
  },
  {
   "cell_type": "code",
   "execution_count": null,
   "metadata": {},
   "outputs": [],
   "source": []
  },
  {
   "cell_type": "code",
   "execution_count": null,
   "metadata": {},
   "outputs": [],
   "source": [
    "base_url = \"https://maps.googleapis.com/maps/api/place/nearbysearch/json\"\n",
    "\n",
    "\n",
    "# San Juan 18.466333,-66.105721\n",
    "# Ponce 18.01108, -66.61406\n",
    "# Rincon 18.340216, -67.250015\n",
    "# Fajardo 18.325787, -65.652382\n",
    "# Arecibo 18.47245, -66.71573\n",
    "\n",
    "# spanish, puertorican, middle eastern, chinese, fast food, bar restaurant\n",
    "params = {\n",
    "    \"location\": \"18.01108,-66.61406\",  # Ponce coords\n",
    "    \"rankby\": \"distance\",\n",
    "    \"type\": \"restaurant\",\n",
    "    \"key\": gkey,\n",
    "    \"keyword\": \"spanish\"\n",
    "}\n",
    "\n",
    "response = requests.get(base_url, params=params).json()\n",
    "response\n",
    "\n",
    "results = response['results']\n",
    "results"
   ]
  },
  {
   "cell_type": "code",
   "execution_count": null,
   "metadata": {},
   "outputs": [],
   "source": [
    "base_url = \"https://maps.googleapis.com/maps/api/place/nearbysearch/json\"\n",
    "\n",
    "\n",
    "# San Juan 18.466333,-66.105721\n",
    "# Ponce 18.01108, -66.61406\n",
    "# Rincon 18.340216, -67.250015\n",
    "# Fajardo 18.325787, -65.652382\n",
    "# Arecibo 18.47245, -66.71573\n",
    "\n",
    "# spanish, puertorican, middle eastern, chinese, fast food, bar restaurant\n",
    "params = {\n",
    "    \"location\": \"18.340216,-67.250015\",  # Rincon coords\n",
    "    \"rankby\": \"distance\",\n",
    "    \"type\": \"restaurant\",\n",
    "    \"key\": gkey,\n",
    "    \"keyword\": \"spanish\"\n",
    "}\n",
    "\n",
    "response = requests.get(base_url, params=params).json()\n",
    "response\n",
    "\n",
    "results = response['results']\n",
    "results"
   ]
  },
  {
   "cell_type": "code",
   "execution_count": null,
   "metadata": {},
   "outputs": [],
   "source": [
    "connection = pymysql.connect(host='databootcamp.cbyaoibag9dz.us-east-2.rds.amazonaws.com',\n",
    "                             user='admin',\n",
    "                             password='2013Parc!',\n",
    "                             db='pr')"
   ]
  },
  {
   "cell_type": "code",
   "execution_count": null,
   "metadata": {},
   "outputs": [],
   "source": [
    "cursor = connection.cursor()"
   ]
  },
  {
   "cell_type": "code",
   "execution_count": null,
   "metadata": {},
   "outputs": [],
   "source": [
    "sql = \"INSERT INTO `restaurants` (`restaurantname`, `rating`, `address`, `url`) VALUES (%s, %s, %s, %s)\"\n",
    "\n",
    "# Execute the query\n",
    "cursor.execute(sql, ('Han Cream', 3.7,'201 Ca. Tanca, San Juan', 'https://maps.google.com/maps/contrib/100796978647196078569'))"
   ]
  },
  {
   "cell_type": "code",
   "execution_count": null,
   "metadata": {},
   "outputs": [],
   "source": [
    "# for row in results: \n",
    "#     text = row[\"photos\"][0][\"html_attributions\"][0]\n",
    "#     url = re.findall(r'\"(.*?)\"', text)\n",
    "    \n",
    "#     info = f\"\"\"\n",
    "#     Name:  {row[\"name\"]}\n",
    "#     URL:  {url[0]}\n",
    "#     Rating:  {row[\"rating\"]}\n",
    "#     Address:  {row[\"vicinity\"]}\n",
    "#     \"\"\"\n",
    "\n",
    "for row in results:\n",
    "    try:\n",
    "        Name =  row[\"name\"]\n",
    "        #URL =  row[\"photos\"][\"html_attributions\"]\n",
    "        Rating =  row[\"rating\"]\n",
    "        Address =  row[\"vicinity\"]\n",
    "        Status = row[\"business_status\"]\n",
    "     \n",
    "        print('------------')\n",
    "        print(Name)\n",
    "        print(Rating)\n",
    "        print(Address)\n",
    "        print(Status)\n",
    "        #print(URL)\n",
    "        \n",
    "    except KeyError as e:\n",
    "        print(e)\n",
    "    \n",
    "# # # create code that will insert into a sql data.    \n",
    "# #     dic = {\n",
    "# #         'Name': row[\"name\"],\n",
    "# #         'Type': \"Chinese\",\n",
    "# #         'Address': row['vicinity']\n",
    "# #     }\n",
    "    \n",
    "#     print(info)    "
   ]
  },
  {
   "cell_type": "code",
   "execution_count": null,
   "metadata": {},
   "outputs": [],
   "source": []
  }
 ],
 "metadata": {
  "kernelspec": {
   "display_name": "Python 3",
   "language": "python",
   "name": "python3"
  },
  "language_info": {
   "codemirror_mode": {
    "name": "ipython",
    "version": 3
   },
   "file_extension": ".py",
   "mimetype": "text/x-python",
   "name": "python",
   "nbconvert_exporter": "python",
   "pygments_lexer": "ipython3",
   "version": "3.8.3"
  }
 },
 "nbformat": 4,
 "nbformat_minor": 4
}
